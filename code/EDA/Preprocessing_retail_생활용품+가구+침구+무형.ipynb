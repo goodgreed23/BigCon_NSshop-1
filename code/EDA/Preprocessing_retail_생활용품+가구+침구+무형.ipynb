{
 "cells": [
  {
   "cell_type": "markdown",
   "metadata": {},
   "source": [
    "## 1. 라이브러리 가져오기"
   ]
  },
  {
   "cell_type": "code",
   "execution_count": 1,
   "metadata": {},
   "outputs": [
    {
     "name": "stderr",
     "output_type": "stream",
     "text": [
      "C:\\Users\\bunga\\Anaconda3\\lib\\site-packages\\statsmodels\\tools\\_testing.py:19: FutureWarning: pandas.util.testing is deprecated. Use the functions in the public API at pandas.testing instead.\n",
      "  import pandas.util.testing as tm\n"
     ]
    }
   ],
   "source": [
    "import pandas as pd\n",
    "import numpy as np\n",
    "import re\n",
    "import datetime as dt\n",
    "import warnings\n",
    "import matplotlib.pyplot as plt\n",
    "import seaborn as sns\n",
    "plt.rcParams['font.family'] = 'NanumGothic'\n",
    "warnings.filterwarnings(action='ignore')"
   ]
  },
  {
   "cell_type": "markdown",
   "metadata": {},
   "source": [
    "#### 데이터 가져오기"
   ]
  },
  {
   "cell_type": "code",
   "execution_count": 2,
   "metadata": {},
   "outputs": [],
   "source": [
    "retail = pd.read_excel('data/01_제공데이터/2020 빅콘테스트 데이터분석분야-챔피언리그_2019년 실적데이터.xlsx', header=1)\n",
    "raw_retail = pd.read_excel('data/01_제공데이터/2020 빅콘테스트 데이터분석분야-챔피언리그_2019년 실적데이터.xlsx', header=1) #원본데이터 보존"
   ]
  },
  {
   "cell_type": "markdown",
   "metadata": {},
   "source": [
    "#### 데이터 확인하기"
   ]
  },
  {
   "cell_type": "code",
   "execution_count": 3,
   "metadata": {},
   "outputs": [
    {
     "data": {
      "text/html": [
       "<div>\n",
       "<style scoped>\n",
       "    .dataframe tbody tr th:only-of-type {\n",
       "        vertical-align: middle;\n",
       "    }\n",
       "\n",
       "    .dataframe tbody tr th {\n",
       "        vertical-align: top;\n",
       "    }\n",
       "\n",
       "    .dataframe thead th {\n",
       "        text-align: right;\n",
       "    }\n",
       "</style>\n",
       "<table border=\"1\" class=\"dataframe\">\n",
       "  <thead>\n",
       "    <tr style=\"text-align: right;\">\n",
       "      <th></th>\n",
       "      <th>방송일시</th>\n",
       "      <th>노출(분)</th>\n",
       "      <th>마더코드</th>\n",
       "      <th>상품코드</th>\n",
       "      <th>상품명</th>\n",
       "      <th>상품군</th>\n",
       "      <th>판매단가</th>\n",
       "      <th>취급액</th>\n",
       "    </tr>\n",
       "  </thead>\n",
       "  <tbody>\n",
       "    <tr>\n",
       "      <th>0</th>\n",
       "      <td>2019-01-01 06:00:00</td>\n",
       "      <td>20.0</td>\n",
       "      <td>100346</td>\n",
       "      <td>201072</td>\n",
       "      <td>테이트 남성 셀린니트3종</td>\n",
       "      <td>의류</td>\n",
       "      <td>39900</td>\n",
       "      <td>2099000.0</td>\n",
       "    </tr>\n",
       "    <tr>\n",
       "      <th>1</th>\n",
       "      <td>2019-01-01 06:00:00</td>\n",
       "      <td>NaN</td>\n",
       "      <td>100346</td>\n",
       "      <td>201079</td>\n",
       "      <td>테이트 여성 셀린니트3종</td>\n",
       "      <td>의류</td>\n",
       "      <td>39900</td>\n",
       "      <td>4371000.0</td>\n",
       "    </tr>\n",
       "    <tr>\n",
       "      <th>2</th>\n",
       "      <td>2019-01-01 06:20:00</td>\n",
       "      <td>20.0</td>\n",
       "      <td>100346</td>\n",
       "      <td>201072</td>\n",
       "      <td>테이트 남성 셀린니트3종</td>\n",
       "      <td>의류</td>\n",
       "      <td>39900</td>\n",
       "      <td>3262000.0</td>\n",
       "    </tr>\n",
       "    <tr>\n",
       "      <th>3</th>\n",
       "      <td>2019-01-01 06:20:00</td>\n",
       "      <td>NaN</td>\n",
       "      <td>100346</td>\n",
       "      <td>201079</td>\n",
       "      <td>테이트 여성 셀린니트3종</td>\n",
       "      <td>의류</td>\n",
       "      <td>39900</td>\n",
       "      <td>6955000.0</td>\n",
       "    </tr>\n",
       "    <tr>\n",
       "      <th>4</th>\n",
       "      <td>2019-01-01 06:40:00</td>\n",
       "      <td>20.0</td>\n",
       "      <td>100346</td>\n",
       "      <td>201072</td>\n",
       "      <td>테이트 남성 셀린니트3종</td>\n",
       "      <td>의류</td>\n",
       "      <td>39900</td>\n",
       "      <td>6672000.0</td>\n",
       "    </tr>\n",
       "  </tbody>\n",
       "</table>\n",
       "</div>"
      ],
      "text/plain": [
       "                 방송일시  노출(분)    마더코드    상품코드            상품명 상품군   판매단가  \\\n",
       "0 2019-01-01 06:00:00   20.0  100346  201072  테이트 남성 셀린니트3종  의류  39900   \n",
       "1 2019-01-01 06:00:00    NaN  100346  201079  테이트 여성 셀린니트3종  의류  39900   \n",
       "2 2019-01-01 06:20:00   20.0  100346  201072  테이트 남성 셀린니트3종  의류  39900   \n",
       "3 2019-01-01 06:20:00    NaN  100346  201079  테이트 여성 셀린니트3종  의류  39900   \n",
       "4 2019-01-01 06:40:00   20.0  100346  201072  테이트 남성 셀린니트3종  의류  39900   \n",
       "\n",
       "         취급액  \n",
       "0  2099000.0  \n",
       "1  4371000.0  \n",
       "2  3262000.0  \n",
       "3  6955000.0  \n",
       "4  6672000.0  "
      ]
     },
     "execution_count": 3,
     "metadata": {},
     "output_type": "execute_result"
    }
   ],
   "source": [
    "retail.head()"
   ]
  },
  {
   "cell_type": "code",
   "execution_count": 4,
   "metadata": {},
   "outputs": [
    {
     "name": "stdout",
     "output_type": "stream",
     "text": [
      "<class 'pandas.core.frame.DataFrame'>\n",
      "RangeIndex: 38309 entries, 0 to 38308\n",
      "Data columns (total 8 columns):\n",
      " #   Column  Non-Null Count  Dtype         \n",
      "---  ------  --------------  -----         \n",
      " 0   방송일시    38309 non-null  datetime64[ns]\n",
      " 1   노출(분)   21525 non-null  float64       \n",
      " 2   마더코드    38309 non-null  int64         \n",
      " 3   상품코드    38309 non-null  int64         \n",
      " 4   상품명     38309 non-null  object        \n",
      " 5   상품군     38309 non-null  object        \n",
      " 6   판매단가    38309 non-null  int64         \n",
      " 7   취급액     37372 non-null  float64       \n",
      "dtypes: datetime64[ns](1), float64(2), int64(3), object(2)\n",
      "memory usage: 2.3+ MB\n"
     ]
    }
   ],
   "source": [
    "retail.info() #노출(분), 취급액 항목 na값 존재"
   ]
  },
  {
   "cell_type": "code",
   "execution_count": 5,
   "metadata": {},
   "outputs": [
    {
     "data": {
      "text/html": [
       "<div>\n",
       "<style scoped>\n",
       "    .dataframe tbody tr th:only-of-type {\n",
       "        vertical-align: middle;\n",
       "    }\n",
       "\n",
       "    .dataframe tbody tr th {\n",
       "        vertical-align: top;\n",
       "    }\n",
       "\n",
       "    .dataframe thead th {\n",
       "        text-align: right;\n",
       "    }\n",
       "</style>\n",
       "<table border=\"1\" class=\"dataframe\">\n",
       "  <thead>\n",
       "    <tr style=\"text-align: right;\">\n",
       "      <th></th>\n",
       "      <th>노출(분)</th>\n",
       "      <th>마더코드</th>\n",
       "      <th>상품코드</th>\n",
       "      <th>판매단가</th>\n",
       "      <th>취급액</th>\n",
       "    </tr>\n",
       "  </thead>\n",
       "  <tbody>\n",
       "    <tr>\n",
       "      <th>count</th>\n",
       "      <td>21525.000000</td>\n",
       "      <td>38309.000000</td>\n",
       "      <td>38309.000000</td>\n",
       "      <td>3.830900e+04</td>\n",
       "      <td>3.737200e+04</td>\n",
       "    </tr>\n",
       "    <tr>\n",
       "      <th>mean</th>\n",
       "      <td>20.174664</td>\n",
       "      <td>100390.972148</td>\n",
       "      <td>201219.923334</td>\n",
       "      <td>4.565537e+05</td>\n",
       "      <td>2.187305e+07</td>\n",
       "    </tr>\n",
       "    <tr>\n",
       "      <th>std</th>\n",
       "      <td>3.633757</td>\n",
       "      <td>249.927870</td>\n",
       "      <td>735.677344</td>\n",
       "      <td>7.260555e+05</td>\n",
       "      <td>2.019140e+07</td>\n",
       "    </tr>\n",
       "    <tr>\n",
       "      <th>min</th>\n",
       "      <td>2.466667</td>\n",
       "      <td>100000.000000</td>\n",
       "      <td>200000.000000</td>\n",
       "      <td>0.000000e+00</td>\n",
       "      <td>5.000000e+04</td>\n",
       "    </tr>\n",
       "    <tr>\n",
       "      <th>25%</th>\n",
       "      <td>20.000000</td>\n",
       "      <td>100155.000000</td>\n",
       "      <td>200550.000000</td>\n",
       "      <td>5.900000e+04</td>\n",
       "      <td>6.880750e+06</td>\n",
       "    </tr>\n",
       "    <tr>\n",
       "      <th>50%</th>\n",
       "      <td>20.000000</td>\n",
       "      <td>100346.000000</td>\n",
       "      <td>201167.000000</td>\n",
       "      <td>1.090000e+05</td>\n",
       "      <td>1.612950e+07</td>\n",
       "    </tr>\n",
       "    <tr>\n",
       "      <th>75%</th>\n",
       "      <td>20.000000</td>\n",
       "      <td>100596.000000</td>\n",
       "      <td>201863.000000</td>\n",
       "      <td>4.990000e+05</td>\n",
       "      <td>3.163125e+07</td>\n",
       "    </tr>\n",
       "    <tr>\n",
       "      <th>max</th>\n",
       "      <td>60.000000</td>\n",
       "      <td>100849.000000</td>\n",
       "      <td>202513.000000</td>\n",
       "      <td>7.930000e+06</td>\n",
       "      <td>3.220090e+08</td>\n",
       "    </tr>\n",
       "  </tbody>\n",
       "</table>\n",
       "</div>"
      ],
      "text/plain": [
       "              노출(분)           마더코드           상품코드          판매단가           취급액\n",
       "count  21525.000000   38309.000000   38309.000000  3.830900e+04  3.737200e+04\n",
       "mean      20.174664  100390.972148  201219.923334  4.565537e+05  2.187305e+07\n",
       "std        3.633757     249.927870     735.677344  7.260555e+05  2.019140e+07\n",
       "min        2.466667  100000.000000  200000.000000  0.000000e+00  5.000000e+04\n",
       "25%       20.000000  100155.000000  200550.000000  5.900000e+04  6.880750e+06\n",
       "50%       20.000000  100346.000000  201167.000000  1.090000e+05  1.612950e+07\n",
       "75%       20.000000  100596.000000  201863.000000  4.990000e+05  3.163125e+07\n",
       "max       60.000000  100849.000000  202513.000000  7.930000e+06  3.220090e+08"
      ]
     },
     "execution_count": 5,
     "metadata": {},
     "output_type": "execute_result"
    }
   ],
   "source": [
    "retail.describe() #min 음수는 없다."
   ]
  },
  {
   "cell_type": "code",
   "execution_count": 6,
   "metadata": {
    "scrolled": true
   },
   "outputs": [
    {
     "data": {
      "text/plain": [
       "방송일시         0\n",
       "노출(분)    16784\n",
       "마더코드         0\n",
       "상품코드         0\n",
       "상품명          0\n",
       "상품군          0\n",
       "판매단가         0\n",
       "취급액        937\n",
       "dtype: int64"
      ]
     },
     "execution_count": 6,
     "metadata": {},
     "output_type": "execute_result"
    }
   ],
   "source": [
    "retail.isnull().sum() #방송일시, 취급액 NA 값 확인"
   ]
  },
  {
   "cell_type": "markdown",
   "metadata": {},
   "source": [
    "#### 데이터 추출 조건 "
   ]
  },
  {
   "cell_type": "code",
   "execution_count": 7,
   "metadata": {},
   "outputs": [],
   "source": [
    "#중요! 같은 시간대 방송 중 하나만 추출해주는 조건\n",
    "notNA = raw_retail['노출(분)'].notna()"
   ]
  },
  {
   "cell_type": "markdown",
   "metadata": {},
   "source": [
    "-----------"
   ]
  },
  {
   "cell_type": "markdown",
   "metadata": {},
   "source": [
    "## 2. 데이터 전처리 (Data Cleansing & Pre-Processing)"
   ]
  },
  {
   "cell_type": "markdown",
   "metadata": {},
   "source": [
    "#### 1) 변수 추가\n",
    "1. 판매량 (취급액 / 판매단가)\n",
    "2. 방송일시 시간 세분화(일자, 월, 일, 시간, 시, 분)\n",
    "3. 계절 (3개월 단위)"
   ]
  },
  {
   "cell_type": "code",
   "execution_count": 8,
   "metadata": {},
   "outputs": [],
   "source": [
    "#판매량\n",
    "retail['판매량'] = retail['취급액'] / retail['판매단가']\n",
    "\n",
    "#시간\n",
    "retail['date'] = retail['방송일시'].dt.date         # YYYY-MM-DD(문자)\n",
    "retail['month'] = retail['방송일시'].dt.month        # 월(숫자)\n",
    "retail['day'] = retail['방송일시'].dt.day          # 일(숫자)\n",
    "retail['time'] = retail['방송일시'].dt.time         # HH:MM:SS(문자)\n",
    "retail['hour'] = retail['방송일시'].dt.hour         # 시(숫자)\n",
    "retail['minute'] = retail['방송일시'].dt.minute       # 분(숫자)\n",
    "\n",
    "#계절\n",
    "retail['계절'] = 0\n",
    "retail['계절'][retail['방송일시'] < pd.to_datetime('20200301')] = '겨울'\n",
    "retail['계절'][retail['방송일시'] < pd.to_datetime('20191201')] = '가을'\n",
    "retail['계절'][retail['방송일시'] < pd.to_datetime('20190901')] = '여름'\n",
    "retail['계절'][retail['방송일시'] < pd.to_datetime('20190601')] = '봄'\n",
    "retail['계절'][retail['방송일시'] < pd.to_datetime('20190301')] = '겨울'"
   ]
  },
  {
   "cell_type": "markdown",
   "metadata": {},
   "source": [
    "#### 2) 변수명 변경 (미정)"
   ]
  },
  {
   "cell_type": "markdown",
   "metadata": {},
   "source": [
    "#### 3) 노출시간 전처리\n",
    "- 반올림\n",
    "- imputation\n",
    "- 그룹화(20미만, 20, 20~30, 30, 30 초과)"
   ]
  },
  {
   "cell_type": "code",
   "execution_count": 9,
   "metadata": {},
   "outputs": [
    {
     "data": {
      "text/plain": [
       "0"
      ]
     },
     "execution_count": 9,
     "metadata": {},
     "output_type": "execute_result"
    }
   ],
   "source": [
    "retail['노출(분)'] = retail['노출(분)'].round() #반올림\n",
    "retail['노출(분)'].fillna(method='ffill', inplace=True) #Imputation\n",
    "retail['노출(분)'].isnull().sum()"
   ]
  },
  {
   "cell_type": "markdown",
   "metadata": {},
   "source": [
    "#### 4) Business 모델에 안 맞는 데이터 제거\n",
    "- \"취급액 < 판매단가\"인 경우, 취급액을 0원으로 일괄적으로 처리"
   ]
  },
  {
   "cell_type": "code",
   "execution_count": 10,
   "metadata": {},
   "outputs": [
    {
     "data": {
      "text/plain": [
       "50000.0    1990\n",
       "Name: 취급액, dtype: int64"
      ]
     },
     "execution_count": 10,
     "metadata": {},
     "output_type": "execute_result"
    }
   ],
   "source": [
    "raw_retail[raw_retail['판매단가'] > raw_retail['취급액']]['취급액'].value_counts()"
   ]
  },
  {
   "cell_type": "code",
   "execution_count": 11,
   "metadata": {},
   "outputs": [],
   "source": [
    "retail['취급액'][retail['판매단가'] > retail['취급액']] = 0"
   ]
  },
  {
   "cell_type": "code",
   "execution_count": 14,
   "metadata": {},
   "outputs": [],
   "source": [
    "#retail.to_csv('data/retail.csv')"
   ]
  },
  {
   "cell_type": "markdown",
   "metadata": {},
   "source": [
    "---"
   ]
  },
  {
   "cell_type": "markdown",
   "metadata": {},
   "source": [
    "## 3. 탐색적 자료분석 (EDA)\n",
    "### 상품군별 분석\n",
    "- 손지우\n",
    " 1. 생활용품: household\n",
    " 2. 가구: furniture\n",
    " 3. 침구: bedding\n",
    " 4. 무형: etc"
   ]
  },
  {
   "cell_type": "code",
   "execution_count": null,
   "metadata": {
    "scrolled": true
   },
   "outputs": [],
   "source": [
    "#상품군별 실제 방송횟수\n",
    "a = retail[raw_retail['노출(분)'].notna()].groupby('상품군').size() #.sort_values(ascending=False)\n",
    "plt.xticks(rotation=45)\n",
    "for x, y in zip(a.index, a):\n",
    "    plt.text(x, y, s=y)\n",
    "plt.title('상품군별 방송 횟수')\n",
    "plt.ylabel('방송 횟수')\n",
    "plt.plot(a, c='orange')\n",
    "plt.show()"
   ]
  },
  {
   "cell_type": "code",
   "execution_count": null,
   "metadata": {
    "scrolled": true
   },
   "outputs": [],
   "source": [
    "#상품군별 취급액 최대값\n",
    "#수정필요...같은 방송시간대는 취급액 합쳐야함\n",
    "a = retail[retail['상품군']!='무형'].groupby('상품군')['취급액'].max() #무형은 0이라서 제외\n",
    "plt.xticks(rotation=45)\n",
    "for x, y in zip(a.index, a):\n",
    "    plt.text(x, y, s=y/10000)\n",
    "plt.title('상품군별 취급액 최대값')\n",
    "plt.ylabel('취급액(만원)')\n",
    "plt.plot(a, c='orange')\n",
    "plt.show()"
   ]
  },
  {
   "cell_type": "code",
   "execution_count": null,
   "metadata": {},
   "outputs": [],
   "source": [
    "#상품군별 판매량 최대값\n",
    "#수정필요...같은 방송시간대는 판매량 합쳐야함\n",
    "a = retail[retail['상품군']!='무형'].groupby('상품군')['판매량'].max() #무형은 0이라서 제외\n",
    "plt.xticks(rotation=45)\n",
    "for x, y in zip(a.index, a):\n",
    "    plt.text(x, y, s=int(y))\n",
    "plt.title('상품군별 판매량 최대값')\n",
    "plt.ylabel('판매량(개)')\n",
    "plt.plot(a, c='orange')\n",
    "plt.show()"
   ]
  },
  {
   "cell_type": "code",
   "execution_count": null,
   "metadata": {},
   "outputs": [],
   "source": [
    "#상품군별 판매량 평균값\n",
    "#수정필요...같은 방송시간대는 판매량 합쳐야함\n",
    "a = retail[retail['상품군']!='무형'].groupby('상품군')['판매량'].mean() #무형은 0이라서 제외\n",
    "plt.xticks(rotation=45)\n",
    "for x, y in zip(a.index, a):\n",
    "    plt.text(x, y, s=int(y))\n",
    "plt.title('상품군별 판매량 평균값')\n",
    "plt.ylabel('판매량(개)')\n",
    "plt.plot(a, c='orange')\n",
    "plt.show()"
   ]
  },
  {
   "cell_type": "markdown",
   "metadata": {},
   "source": [
    "결론: **상품군별** 정보가 상이하므로, 상품군에 따라 나눠서 EDA를 접근하는 것이 좋겠다."
   ]
  },
  {
   "cell_type": "code",
   "execution_count": null,
   "metadata": {},
   "outputs": [],
   "source": [
    "#상품군별 접근\n",
    "household = retail.groupby('상품군').get_group('생활용품')\n",
    "furniture = retail.groupby('상품군').get_group('가구')\n",
    "bedding = retail.groupby('상품군').get_group('침구')\n",
    "etc = retail.groupby('상품군').get_group('무형')"
   ]
  },
  {
   "cell_type": "markdown",
   "metadata": {},
   "source": [
    "## 1) 생활용품"
   ]
  },
  {
   "cell_type": "markdown",
   "metadata": {},
   "source": [
    "<img src=\"https://image.freepik.com/free-vector/household-goods-shop-icon-set_81894-628.jpg\" width=\"200\" height=\"200\">"
   ]
  },
  {
   "cell_type": "markdown",
   "metadata": {},
   "source": [
    "#### 1) 방송일시"
   ]
  },
  {
   "cell_type": "code",
   "execution_count": null,
   "metadata": {},
   "outputs": [],
   "source": [
    "pass"
   ]
  },
  {
   "cell_type": "markdown",
   "metadata": {
    "scrolled": true
   },
   "source": [
    "#### 2) 노출(분)"
   ]
  },
  {
   "cell_type": "code",
   "execution_count": null,
   "metadata": {},
   "outputs": [],
   "source": [
    "household[notNA].groupby('노출(분)').size()\n",
    "#대부분 20분 편성이며, 다음으로는 30분 편성이 많다.\n",
    "#나머지들을 구간으로 나눠서 그룹화하는게 좋을 듯 하다."
   ]
  },
  {
   "cell_type": "code",
   "execution_count": null,
   "metadata": {},
   "outputs": [],
   "source": [
    "household['노출(분)'][household['노출(분)'] < 20] = 10 #임의로 10 배정(실제평균은 13)\n",
    "household['노출(분)'][(household['노출(분)'] > 20) & (household['노출(분)'] < 30)] = 25 #임의로 25 배정\n",
    "household.groupby('노출(분)').size()"
   ]
  },
  {
   "cell_type": "code",
   "execution_count": null,
   "metadata": {},
   "outputs": [],
   "source": [
    "fig, ax = plt.subplots()\n",
    "a = household[notNA].groupby('노출(분)').size() #notNA 적용\n",
    "labels = ['20분 미만','20분','20분이상 30분 미만','30분']\n",
    "plt.bar(labels, a, color='orange')\n",
    "plt.title('생활용품 노출(분)')\n",
    "plt.xlabel('시간(분)')\n",
    "plt.ylabel('개수')\n",
    "for x, y in zip(labels, a):\n",
    "     plt.text(x, y+5, s='{}회'.format(y))\n",
    "plt.show()"
   ]
  },
  {
   "cell_type": "markdown",
   "metadata": {},
   "source": [
    "#### 3) 마더코드"
   ]
  },
  {
   "cell_type": "code",
   "execution_count": null,
   "metadata": {},
   "outputs": [],
   "source": [
    "household.groupby('마더코드').size().sort_values(ascending=False)\n",
    "# 76개의 브랜드가 있는 것으로 추정된다."
   ]
  },
  {
   "cell_type": "code",
   "execution_count": null,
   "metadata": {
    "scrolled": true
   },
   "outputs": [],
   "source": [
    "#가장 많은 마더코드 top 5\n",
    "top5 = household.groupby('마더코드').size().sort_values(ascending=False)[:5].reset_index()['마더코드']\n",
    "top5"
   ]
  },
  {
   "cell_type": "markdown",
   "metadata": {},
   "source": [
    "#### 4) 상품코드"
   ]
  },
  {
   "cell_type": "code",
   "execution_count": null,
   "metadata": {},
   "outputs": [],
   "source": [
    "pass"
   ]
  },
  {
   "cell_type": "markdown",
   "metadata": {},
   "source": [
    "#### 5) 상품명\n",
    "\n",
    "#### 상품명 전처리 아이디어\n",
    "1. 브랜드\n",
    " - 특수문자: 공백으로 만들기\n",
    " - 상품명이 먼저 등장하는 경우: ex) KF94, 대형, ...\n",
    "2. 세트 or Not\n",
    " - 동시에 판 것들\n",
    "3. 노출빈도"
   ]
  },
  {
   "cell_type": "code",
   "execution_count": null,
   "metadata": {},
   "outputs": [],
   "source": [
    "#텍스트에 포함되어 있는 특수 문자를 공백으로 바꾸기\n",
    "def cleanText(readData):\n",
    "    text = re.sub('[-=,#/\\?:^$.@*\\\"※~&%ㆍ!』\\\\‘|\\(\\)\\[\\]\\<\\>`\\'…》]', ' ', readData) # '+'는 그대로 놔두기\n",
    "    return text"
   ]
  },
  {
   "cell_type": "code",
   "execution_count": null,
   "metadata": {},
   "outputs": [],
   "source": [
    "#test\n",
    "cleanText('가)세렌셉템버 다이아 체크 리빙박스+압축팩') #test /'+'는 그대로 놔두기"
   ]
  },
  {
   "cell_type": "markdown",
   "metadata": {},
   "source": [
    "#### 5-1) 브랜드"
   ]
  },
  {
   "cell_type": "code",
   "execution_count": null,
   "metadata": {},
   "outputs": [],
   "source": [
    "#브랜드 띄어쓰기 교정\n",
    "def makeSpaceBrand(brand, data):\n",
    "    new_brand = []\n",
    "    for b in brand:\n",
    "        b_with_space = ' ' + b + ' '\n",
    "        tmp = data.replace(b, b_with_space)\n",
    "        \n",
    "        if b in tmp.split():\n",
    "            new_brand.append(b)\n",
    "            break\n",
    "        else:\n",
    "            new_brand.append(data)\n",
    "            break          \n",
    "    return new_brand"
   ]
  },
  {
   "cell_type": "code",
   "execution_count": null,
   "metadata": {},
   "outputs": [],
   "source": [
    "#test\n",
    "print(makeSpaceBrand(['까사마루', '올바로', '보국'],'가까사마루행거 2단'))\n",
    "print(makeSpaceBrand(['까사마루', '올바로', '보국'],'까사마행거 2단'))"
   ]
  },
  {
   "cell_type": "code",
   "execution_count": null,
   "metadata": {},
   "outputs": [],
   "source": [
    "household_brand = []\n",
    "exception = ['가','무이자', '일시불', '국내산', '김병만의', '김병지', '완벽더블구성', '기본구성', '파격가', '일','무',\n",
    "            '2019년', 'D', 'ALL', 'New', '1세트','2세트','5세트', '국내제작', '중형','점보특대형','점보형',\n",
    "            '퀸+퀸','킹+싱글','퀸+싱글','킹사이즈','퀸사이즈','싱글사이즈', '더블+더블','더블+싱글','더블사이즈','싱글사이즈',\n",
    "            '초특가', '1+1', '풀패키지','실속패키지', '국내제조','한세트','붙이는', 'KF94', '12', '싱글+싱글']\n",
    "brand_to_check = ['까사마루', '올바로', '엔웰스']\n",
    "\n",
    "#3D매쉬 -> '두씽'으로 브랜드 바꿔줘야함\n",
    "#파워스윙 -> '스윙'으로 브랜드 바꿔줘야함\n",
    "#1+1보국미니히터(화이트+레드)BKH-1083P +BKH-1083PR -> '보국'을 꺼내야함\n",
    "#OK 근육통완화 동전패치 -> '케이원헬스케어'\n",
    "#\n",
    "\n",
    "for line in household['상품명']:\n",
    "    line = makeSpaceBrand(brand_to_check, line) #브랜드 띄어쓰기 교정\n",
    "    line = cleanText(str(line)) #str 변환 후, 특수문자 제거\n",
    "    tmp = line.split()\n",
    "    if tmp[0] not in exception:\n",
    "        household_brand.append(tmp[0])\n",
    "    elif tmp[1] not in exception:\n",
    "        household_brand.append(tmp[1])\n",
    "    elif tmp[2] not in exception:\n",
    "        household_brand.append(tmp[2])\n",
    "    else:\n",
    "        household_brand.append(tmp[3])\n",
    "\n",
    "print(set(household_brand))\n",
    "print('\\n', len(set(household_brand)), \"개의 생활용품 브랜드가 있다.\")"
   ]
  },
  {
   "cell_type": "markdown",
   "metadata": {},
   "source": [
    "#### 6) 판매단가"
   ]
  },
  {
   "cell_type": "code",
   "execution_count": null,
   "metadata": {},
   "outputs": [],
   "source": [
    "household['판매단가'].sort_values()"
   ]
  },
  {
   "cell_type": "code",
   "execution_count": null,
   "metadata": {},
   "outputs": [],
   "source": [
    "fig, axes = plt.subplots(1,2, figsize=(15,8), sharey=True)\n",
    "sns.distplot(household['판매단가'][household['판매단가'] < 100000], ax=axes[0])\n",
    "sns.distplot(household['판매단가'][household['판매단가'] >= 100000], ax=axes[1])\n",
    "plt.show()"
   ]
  },
  {
   "cell_type": "markdown",
   "metadata": {},
   "source": [
    "#### 7) 취급액"
   ]
  },
  {
   "cell_type": "code",
   "execution_count": null,
   "metadata": {},
   "outputs": [],
   "source": [
    "household['취급액'].sort_values()"
   ]
  },
  {
   "cell_type": "code",
   "execution_count": null,
   "metadata": {},
   "outputs": [],
   "source": [
    "household['취급액'][household['취급액']==0].count()"
   ]
  },
  {
   "cell_type": "code",
   "execution_count": null,
   "metadata": {},
   "outputs": [],
   "source": [
    "fig, axes = plt.subplots(figsize=(15,8))\n",
    "sns.distplot(household['취급액'][household['취급액']!=0])\n",
    "plt.show()"
   ]
  },
  {
   "cell_type": "markdown",
   "metadata": {},
   "source": [
    "#### 8) 판매량"
   ]
  },
  {
   "cell_type": "code",
   "execution_count": null,
   "metadata": {},
   "outputs": [],
   "source": [
    "household['판매량'].sort_values()"
   ]
  },
  {
   "cell_type": "code",
   "execution_count": null,
   "metadata": {},
   "outputs": [],
   "source": [
    "household['판매량'][household['판매량']==0].count()"
   ]
  },
  {
   "cell_type": "code",
   "execution_count": null,
   "metadata": {},
   "outputs": [],
   "source": [
    "fig, axes = plt.subplots(figsize=(15,8))\n",
    "sns.distplot(household['판매량'][household['판매량']!=0])\n",
    "plt.show()"
   ]
  },
  {
   "cell_type": "markdown",
   "metadata": {},
   "source": [
    "#### 9) 계절"
   ]
  },
  {
   "cell_type": "code",
   "execution_count": null,
   "metadata": {},
   "outputs": [],
   "source": [
    "household[raw_retail['노출(분)'].notna()].groupby('계절').size()\n",
    "#생활용품은 여름에는 적게 방송했고, 가을에 가장 많이 방송했다."
   ]
  },
  {
   "cell_type": "code",
   "execution_count": null,
   "metadata": {},
   "outputs": [],
   "source": [
    "a = household[raw_retail['노출(분)'].notna()].groupby('계절').size()\n",
    "a = a.reindex(index = ['봄','여름','가을','겨울'])\n",
    "\n",
    "fix, ax = plt.subplots()\n",
    "for x, y in zip(a.index, a):\n",
    "    plt.text(x, y, '{}회'.format(y))\n",
    "plt.plot(a, c='orange')\n",
    "plt.show()"
   ]
  },
  {
   "cell_type": "markdown",
   "metadata": {},
   "source": [
    "#### 10) 시간"
   ]
  },
  {
   "cell_type": "code",
   "execution_count": null,
   "metadata": {},
   "outputs": [],
   "source": [
    "#월별\n",
    "a = household[raw_retail['노출(분)'].notna()].groupby('month').size()\n",
    "\n",
    "fig, ax = plt.subplots()\n",
    "plt.title('생활용품 월별 방송횟수')\n",
    "plt.xticks(range(1,13), [str(month) + '월' for month in list(range(1,13))])\n",
    "for x, y in zip(range(1, 13), a):\n",
    "    plt.text(x, y-5, \"{}회\".format(y))\n",
    "plt.plot(a, c='orange')\n",
    "plt.show()"
   ]
  },
  {
   "cell_type": "markdown",
   "metadata": {},
   "source": [
    "## 종합"
   ]
  },
  {
   "cell_type": "code",
   "execution_count": null,
   "metadata": {},
   "outputs": [],
   "source": [
    "fig, ax = plt.subplots(figsize=(7, 7))\n",
    "a = sns.heatmap(household[['노출(분)','판매단가','취급액','판매량']].corr(), annot=True, linewidths=1, cmap='RdYlGn_r')\n",
    "ax.set_title('생활용품 상관관계분석')\n",
    "plt.show()"
   ]
  },
  {
   "cell_type": "markdown",
   "metadata": {},
   "source": [
    "--------"
   ]
  }
 ],
 "metadata": {
  "kernelspec": {
   "display_name": "Python 3",
   "language": "python",
   "name": "python3"
  },
  "language_info": {
   "codemirror_mode": {
    "name": "ipython",
    "version": 3
   },
   "file_extension": ".py",
   "mimetype": "text/x-python",
   "name": "python",
   "nbconvert_exporter": "python",
   "pygments_lexer": "ipython3",
   "version": "3.7.4"
  }
 },
 "nbformat": 4,
 "nbformat_minor": 2
}
